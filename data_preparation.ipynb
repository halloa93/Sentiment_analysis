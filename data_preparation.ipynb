{
 "cells": [
  {
   "cell_type": "markdown",
   "id": "924c7f84-5dff-42e3-813e-b479c4d67bf8",
   "metadata": {},
   "source": [
    "**SOURCES**"
   ]
  },
  {
   "cell_type": "markdown",
   "id": "feb54f9f-6fb8-4a72-ad61-5e1ecc8e253d",
   "metadata": {},
   "source": [
    "https://pandas.pydata.org/docs/\n",
    "\n",
    "https://www.nltk.org/"
   ]
  },
  {
   "cell_type": "markdown",
   "id": "a28d1edb-2210-4ca9-8eb8-5a50d6210d49",
   "metadata": {},
   "source": [
    "**DATA CLEANING**"
   ]
  },
  {
   "cell_type": "code",
   "execution_count": null,
   "id": "54e97355-cee8-40cb-b487-34e3b92a78ae",
   "metadata": {},
   "outputs": [],
   "source": [
    "import pandas as pd"
   ]
  },
  {
   "cell_type": "code",
   "execution_count": null,
   "id": "ad4a7d65-2a03-41b5-8626-37d00336c199",
   "metadata": {},
   "outputs": [],
   "source": [
    "df = pd.read_csv('data/trump1_tidy.csv', encoding = 'latin1')"
   ]
  },
  {
   "cell_type": "code",
   "execution_count": null,
   "id": "0aff6137-f218-48b8-9bea-2fb1c1b7c8df",
   "metadata": {},
   "outputs": [],
   "source": [
    "df.info()"
   ]
  },
  {
   "cell_type": "code",
   "execution_count": null,
   "id": "cbec3133-f399-41ff-b953-230006577eca",
   "metadata": {},
   "outputs": [],
   "source": [
    "df.head()"
   ]
  },
  {
   "cell_type": "code",
   "execution_count": null,
   "id": "7b1e9721-bb09-4a9b-8df2-77beb279e879",
   "metadata": {},
   "outputs": [],
   "source": [
    "#if there is no columns names\n",
    "\"\"\"num_columns = len(df.columns)\n",
    "column_names = [f'Kolumna_{i+1}' for i in range(num_columns)]\n",
    "df.columns = column_names\"\"\""
   ]
  },
  {
   "cell_type": "code",
   "execution_count": null,
   "id": "79536785-b242-4968-a0f6-58c9857c9a3d",
   "metadata": {},
   "outputs": [],
   "source": [
    "#setting columns to keep\n",
    "columns_to_keep = [\n",
    "    'Tweet'\n",
    "    #'Kolumna_6'\n",
    "]\n",
    "df_filtered = df[columns_to_keep]"
   ]
  },
  {
   "cell_type": "code",
   "execution_count": null,
   "id": "4b369684-89b6-49ca-b396-def2b5a1807d",
   "metadata": {},
   "outputs": [],
   "source": [
    "df_filtered.head()"
   ]
  },
  {
   "cell_type": "code",
   "execution_count": null,
   "id": "10854a2b-ac6c-46d0-b7d3-c3e228997881",
   "metadata": {},
   "outputs": [],
   "source": [
    "print(df_filtered['Kolumna_6'].dtype)"
   ]
  },
  {
   "cell_type": "code",
   "execution_count": null,
   "id": "df510863-8811-494d-8530-dd30b29bd100",
   "metadata": {},
   "outputs": [],
   "source": [
    "df_filtered.loc[:,'Kolumna_6'] = df_filtered['Kolumna_6'].astype(str)"
   ]
  },
  {
   "cell_type": "code",
   "execution_count": null,
   "id": "6aa17f8d-ef5e-4a78-bd3e-a0c0742d09c4",
   "metadata": {},
   "outputs": [],
   "source": [
    "#import nltk\n",
    "#nltk.download('wordnet')\n",
    "#nltk.download('punkt')\n",
    "#nltk.download('vader_lexicon')"
   ]
  },
  {
   "cell_type": "code",
   "execution_count": null,
   "id": "0b19d481-9ffd-45ff-85e8-acaeefa02ebc",
   "metadata": {},
   "outputs": [],
   "source": [
    "import re\n",
    "from sklearn.feature_extraction.text import ENGLISH_STOP_WORDS\n",
    "from nltk.corpus import stopwords\n",
    "from nltk.tokenize import word_tokenize\n",
    "from nltk.stem import WordNetLemmatizer"
   ]
  },
  {
   "cell_type": "code",
   "execution_count": null,
   "id": "02245be2-85ce-4049-90c3-542d9c52c599",
   "metadata": {},
   "outputs": [],
   "source": [
    "#tweets cleaning function\n",
    "def clean_tweet(text):\n",
    "    #lowercase text\n",
    "    text = text.lower()\n",
    "    #remove punctuation\n",
    "    text = re.sub(r'[^\\w\\s]', '', text)\n",
    "    #remove special words\n",
    "    text = re.sub(r'[^a-z\\s]', '', text)\n",
    "    #remove two letter words\n",
    "    text = re.sub(r'\\b\\w{1,2}\\b', '', text)\n",
    "    #remove links\n",
    "    text = re.sub(r'https?:\\/\\/\\S*|http\\S*', '', text)\n",
    "    #lstrip\n",
    "    text = text.lstrip(' ')\n",
    "    #split words\n",
    "    text = ' '.join([word for word in text.split() if word not in ENGLISH_STOP_WORDS])\n",
    "    return text\n",
    "    "
   ]
  },
  {
   "cell_type": "code",
   "execution_count": null,
   "id": "a9090f17-0804-4db8-b2bd-833daf6ddd90",
   "metadata": {},
   "outputs": [],
   "source": [
    "df_filtered.loc[:,'Cleaned_Tweets'] = df_filtered['Tweet'].apply(clean_tweet)"
   ]
  },
  {
   "cell_type": "code",
   "execution_count": null,
   "id": "98fef53f-2f49-47e1-bc47-04345cf4618e",
   "metadata": {},
   "outputs": [],
   "source": [
    "df_filtered.head()"
   ]
  },
  {
   "cell_type": "code",
   "execution_count": null,
   "id": "56977a83-9ea8-4caf-b67c-9c6d83188efd",
   "metadata": {},
   "outputs": [],
   "source": [
    "#tokenization\n",
    "def tokenize_text(text):\n",
    "    return word_tokenize(text)"
   ]
  },
  {
   "cell_type": "code",
   "execution_count": null,
   "id": "87258c95-938b-41dc-af40-d651082e599e",
   "metadata": {},
   "outputs": [],
   "source": [
    "df_filtered['Tokens'] = df_filtered['Cleaned_Tweets'].apply(tokenize_text)"
   ]
  },
  {
   "cell_type": "code",
   "execution_count": null,
   "id": "40e24209-7c0b-49c3-b593-907b0c14d6a7",
   "metadata": {},
   "outputs": [],
   "source": [
    "df_filtered.head()"
   ]
  },
  {
   "cell_type": "code",
   "execution_count": null,
   "id": "adfeaaaf-5766-43c3-b13f-d61cecbd7ba2",
   "metadata": {},
   "outputs": [],
   "source": [
    "#lemmatization\n",
    "lemmatizer = WordNetLemmatizer()\n",
    "\n",
    "def lemmatize_token_list(token_list):\n",
    "    return [lemmatizer.lemmatize(token) for token in token_list]"
   ]
  },
  {
   "cell_type": "code",
   "execution_count": null,
   "id": "c89e6eeb-cdaa-4b39-ba73-161eaeb3e466",
   "metadata": {},
   "outputs": [],
   "source": [
    "df_filtered['Lemmas'] = df_filtered['Tokens'].apply(lemmatize_token_list)"
   ]
  },
  {
   "cell_type": "code",
   "execution_count": null,
   "id": "02ec44f0-9612-47e3-940b-9f71b470931d",
   "metadata": {},
   "outputs": [],
   "source": [
    "df_filtered.head()"
   ]
  },
  {
   "cell_type": "code",
   "execution_count": null,
   "id": "beb6c7b5-6203-4bf4-a93a-7feafdb0d1fd",
   "metadata": {},
   "outputs": [],
   "source": [
    "def clean_lemmas(lemmas):\n",
    "    cleaned_lemmas = [lemma for lemma in lemmas if re.match(r'^\\w+$', lemma)]\n",
    "    return cleaned_lemmas"
   ]
  },
  {
   "cell_type": "code",
   "execution_count": null,
   "id": "4b7e783a-3351-4291-a5ce-4f64bf173b2b",
   "metadata": {},
   "outputs": [],
   "source": [
    "df_filtered.loc[:,'Cleaned_Lemmas'] = df_filtered['Lemmas'].apply(clean_lemmas)"
   ]
  },
  {
   "cell_type": "code",
   "execution_count": null,
   "id": "73f3c78c-be46-46b9-98f8-f71fb993c880",
   "metadata": {},
   "outputs": [],
   "source": [
    "df_filtered['Lemmas_Text'] = df_filtered['Cleaned_Lemmas'].apply(lambda lemmas: ' '.join(lemmas))"
   ]
  },
  {
   "cell_type": "code",
   "execution_count": null,
   "id": "d7b86444-922e-4130-af99-933f18f215de",
   "metadata": {},
   "outputs": [],
   "source": [
    "df_filtered.head()"
   ]
  },
  {
   "cell_type": "code",
   "execution_count": null,
   "id": "49874dcb-c1c2-4f27-a7cb-227d24a15532",
   "metadata": {},
   "outputs": [],
   "source": [
    "#choosing columns to keep\n",
    "columns_to_keep = [\n",
    "    'Tweet',\n",
    "    'Cleaned_Tweets',\n",
    "    'Tokens',\n",
    "    'Lemmas',\n",
    "    'Cleaned_Lemmas',\n",
    "    'Lemmas_Text',\n",
    "]\n",
    "df_eval = df_filtered[columns_to_keep]"
   ]
  },
  {
   "cell_type": "code",
   "execution_count": null,
   "id": "e54d1679-c0fb-44de-b414-09ad5a79545e",
   "metadata": {},
   "outputs": [],
   "source": [
    "df_eval.head()"
   ]
  },
  {
   "cell_type": "markdown",
   "id": "4c73fea0-f422-47e2-a612-94d8a50a0cd3",
   "metadata": {},
   "source": [
    "**DATA EVALUATION**"
   ]
  },
  {
   "cell_type": "code",
   "execution_count": null,
   "id": "56426d55-022c-4960-bf7b-7a5ee1ef9644",
   "metadata": {},
   "outputs": [],
   "source": [
    "from nltk.sentiment.vader import SentimentIntensityAnalyzer"
   ]
  },
  {
   "cell_type": "code",
   "execution_count": null,
   "id": "db44f373-83e6-4a4b-9f00-32ea804e11f7",
   "metadata": {},
   "outputs": [],
   "source": [
    "#evaluation function\n",
    "sid = SentimentIntensityAnalyzer()\n",
    "\n",
    "def vader_sentiment(text):\n",
    "    scores = sid.polarity_scores(text)\n",
    "    return scores['compound']\n",
    "\n",
    "df_eval.loc[:,'vader_sentiment'] = df_eval['Lemmas_Text'].apply(vader_sentiment)"
   ]
  },
  {
   "cell_type": "code",
   "execution_count": null,
   "id": "a858faaf-a2f1-473f-8583-cc6b1bab97cf",
   "metadata": {},
   "outputs": [],
   "source": [
    "#checkpoint\n",
    "df_eval.to_csv('testtrump.csv', index = False)"
   ]
  },
  {
   "cell_type": "code",
   "execution_count": null,
   "id": "281944de-9be5-411b-a12f-41be68b2dce8",
   "metadata": {},
   "outputs": [],
   "source": [
    "df_eval.head(5)"
   ]
  },
  {
   "cell_type": "code",
   "execution_count": null,
   "id": "e638de57-7dfb-42bd-96ff-cbb42a7fcbfa",
   "metadata": {},
   "outputs": [],
   "source": [
    "import matplotlib.pyplot as plt\n",
    "import seaborn as sns"
   ]
  },
  {
   "cell_type": "code",
   "execution_count": null,
   "id": "ad4b372d-4cd3-4f92-8ace-a3595b7f15ed",
   "metadata": {},
   "outputs": [],
   "source": [
    "#distribution of sentiment\n",
    "sns.histplot(df_eval['vader_sentiment'], bins = 20)\n",
    "plt.title('Rozkład wyników sentymentu Vader')\n",
    "plt.show()"
   ]
  },
  {
   "cell_type": "code",
   "execution_count": null,
   "id": "844e87af-6513-4b99-98fd-63c892019452",
   "metadata": {},
   "outputs": [],
   "source": [
    "#mean value for overall sentiment\n",
    "mean_vader = df_eval['vader_sentiment'].mean()\n",
    "print(\"Średni wynik: \", mean_vader)"
   ]
  },
  {
   "cell_type": "code",
   "execution_count": null,
   "id": "46991c69-5271-4838-bcb8-19a3d16c6c15",
   "metadata": {},
   "outputs": [],
   "source": [
    "#describe for bar plot\n",
    "df_eval.loc[:,'vader_sentiment'] = pd.cut(df_eval['vader_sentiment'], bins=[-float(\"inf\"), -0.1, 0.1, float(\"inf\")], labels=['negative', 'neutral', 'positive'])"
   ]
  },
  {
   "cell_type": "code",
   "execution_count": null,
   "id": "266da007-40de-4859-9976-a0aebe0f845c",
   "metadata": {},
   "outputs": [],
   "source": [
    "#bar plot\n",
    "sentiment_counts = df_eval['vader_sentiment'].value_counts()\n",
    "sentiment_counts.plot(kind = 'bar', color = ['red', 'blue', 'green'])"
   ]
  },
  {
   "cell_type": "code",
   "execution_count": null,
   "id": "84b1a774-b434-4760-9410-6b42ca591f49",
   "metadata": {},
   "outputs": [],
   "source": [
    "#summary for counting\n",
    "negative_count = df_eval['vader_sentiment'].value_counts().get('negative', 0)\n",
    "neutral_count = df_eval['vader_sentiment'].value_counts().get('neutral', 0)\n",
    "positive_count = df_eval['vader_sentiment'].value_counts().get('positive', 0)\n",
    "print(\"Total negatives: \", negative_count,\n",
    "     \"\\nTotal neutrals: \", neutral_count,\n",
    "     \"\\nTotal positives: \", positive_count,\n",
    "     \"\\nTotal: \", negative_count + neutral_count + positive_count)"
   ]
  },
  {
   "cell_type": "code",
   "execution_count": null,
   "id": "b318b994-c32c-4941-b227-f42ece15e2a8",
   "metadata": {},
   "outputs": [],
   "source": [
    "#final saves\n",
    "df_eval.to_csv('set1.csv', index = False)"
   ]
  }
 ],
 "metadata": {
  "kernelspec": {
   "display_name": "Python 3 (ipykernel)",
   "language": "python",
   "name": "python3"
  },
  "language_info": {
   "codemirror_mode": {
    "name": "ipython",
    "version": 3
   },
   "file_extension": ".py",
   "mimetype": "text/x-python",
   "name": "python",
   "nbconvert_exporter": "python",
   "pygments_lexer": "ipython3",
   "version": "3.10.12"
  }
 },
 "nbformat": 4,
 "nbformat_minor": 5
}
