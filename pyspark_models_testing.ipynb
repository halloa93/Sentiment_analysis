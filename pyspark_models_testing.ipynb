{
 "cells": [
  {
   "cell_type": "markdown",
   "id": "b2216e26-b04a-448f-82a8-28bdf9b878e0",
   "metadata": {},
   "source": [
    "**SOURCES**"
   ]
  },
  {
   "cell_type": "markdown",
   "id": "41101cc6-a652-4e5a-b276-6660d1b7fcb9",
   "metadata": {},
   "source": [
    "https://spark.apache.org/docs/latest/api/python/index.html\n",
    "\n",
    "https://www.kaggle.com/code/nezarabdilahprakasa/sentiment-analysis-using-pyspark-big-data\n"
   ]
  },
  {
   "cell_type": "code",
   "execution_count": 10,
   "id": "be4382c5-3a39-4b27-bbde-f2af1e2ab4b9",
   "metadata": {},
   "outputs": [],
   "source": [
    "from pyspark.sql import SparkSession\n",
    "from pyspark.ml.classification import LogisticRegressionModel\n",
    "from pyspark.ml.classification import NaiveBayes, NaiveBayesModel"
   ]
  },
  {
   "cell_type": "code",
   "execution_count": 2,
   "id": "e02dfa7c-ee0a-4989-ac16-908af6a7fa02",
   "metadata": {},
   "outputs": [
    {
     "name": "stderr",
     "output_type": "stream",
     "text": [
      "24/06/13 13:07:57 WARN Utils: Your hostname, halloa93 resolves to a loopback address: 127.0.1.1; using 192.168.55.114 instead (on interface wlp2s0)\n",
      "24/06/13 13:07:57 WARN Utils: Set SPARK_LOCAL_IP if you need to bind to another address\n",
      "Setting default log level to \"WARN\".\n",
      "To adjust logging level use sc.setLogLevel(newLevel). For SparkR, use setLogLevel(newLevel).\n",
      "24/06/13 13:07:58 WARN NativeCodeLoader: Unable to load native-hadoop library for your platform... using builtin-java classes where applicable\n"
     ]
    }
   ],
   "source": [
    "spark = SparkSession.builder.appName(\"main_test\").getOrCreate()"
   ]
  },
  {
   "cell_type": "markdown",
   "id": "e53c680b-6179-4211-9bfc-45744e57a8fa",
   "metadata": {},
   "source": [
    "**NEW TWEETS DOWNLOAD AND MODEL TESTING**"
   ]
  },
  {
   "cell_type": "code",
   "execution_count": 3,
   "id": "4afb589e-4dd8-4355-854f-8a538df03b7a",
   "metadata": {},
   "outputs": [],
   "source": [
    "from ntscraper import Nitter\n",
    "from pprint import pprint"
   ]
  },
  {
   "cell_type": "code",
   "execution_count": 4,
   "id": "d4b73dfc-dee8-4ea3-aaaa-247e538b0f89",
   "metadata": {},
   "outputs": [
    {
     "name": "stderr",
     "output_type": "stream",
     "text": [
      "Testing instances:  92%|██████████████████████▏ | 71/77 [00:49<00:04,  1.35it/s]"
     ]
    },
    {
     "name": "stdout",
     "output_type": "stream",
     "text": [
      "13-Jun-24 13:08:52 - Certificate did not match expected hostname: nt.ggtyler.dev. Certificate: {'subject': ((('commonName', '4g.ggtyler.dev'),),), 'issuer': ((('countryName', 'US'),), (('organizationName', \"Let's Encrypt\"),), (('commonName', 'R3'),)), 'version': 3, 'serialNumber': '03A4459CE6DA31CFF555DB78FF3F35BFEA88', 'notBefore': 'May 14 10:55:44 2024 GMT', 'notAfter': 'Aug 12 10:55:43 2024 GMT', 'subjectAltName': (('DNS', '4g.ggtyler.dev'),), 'OCSP': ('http://r3.o.lencr.org',), 'caIssuers': ('http://r3.i.lencr.org/',)}\n"
     ]
    },
    {
     "name": "stderr",
     "output_type": "stream",
     "text": [
      "Testing instances:  95%|██████████████████████▊ | 73/77 [00:50<00:03,  1.27it/s]"
     ]
    },
    {
     "name": "stdout",
     "output_type": "stream",
     "text": [
      "13-Jun-24 13:08:54 - Certificate did not match expected hostname: nitter.uni-sonia.com. Certificate: {'subject': ((('commonName', '*.xserver.jp'),),), 'issuer': ((('countryName', 'JP'),), (('organizationName', 'CloudSecure Corporation'),), (('commonName', 'CloudSecure RSA Domain Validation Secure Server CA 2'),)), 'version': 3, 'serialNumber': 'ACA67AD2030638EE2DCE8E845B8299A6', 'notBefore': 'Mar 11 00:00:00 2024 GMT', 'notAfter': 'Apr 11 23:59:59 2025 GMT', 'subjectAltName': (('DNS', '*.xserver.jp'), ('DNS', 'xserver.jp')), 'OCSP': ('http://ocsp.sectigo.com',), 'caIssuers': ('http://crt.sectigo.com/CloudSecureRSADomainValidationSecureServerCA2.crt',)}\n"
     ]
    },
    {
     "name": "stderr",
     "output_type": "stream",
     "text": [
      "Testing instances:  99%|███████████████████████▋| 76/77 [00:55<00:01,  1.31s/it]"
     ]
    },
    {
     "name": "stdout",
     "output_type": "stream",
     "text": [
      "13-Jun-24 13:08:58 - Certificate did not match expected hostname: nitter.tinfoil-hat.net. Certificate: {'subject': ((('commonName', 'jelly.tinfoil-hat.de'),),), 'issuer': ((('countryName', 'US'),), (('organizationName', \"Let's Encrypt\"),), (('commonName', 'R3'),)), 'version': 3, 'serialNumber': '044FDE3E7089FB997C3D8AFDE2412CE51554', 'notBefore': 'May 15 09:29:23 2024 GMT', 'notAfter': 'Aug 13 09:29:22 2024 GMT', 'subjectAltName': (('DNS', 'jelly.tinfoil-hat.de'),), 'OCSP': ('http://r3.o.lencr.org',), 'caIssuers': ('http://r3.i.lencr.org/',)}\n"
     ]
    },
    {
     "name": "stderr",
     "output_type": "stream",
     "text": [
      "Testing instances: 100%|████████████████████████| 77/77 [00:55<00:00,  1.39it/s]\n"
     ]
    }
   ],
   "source": [
    "scraper = Nitter(log_level = 1, skip_instance_check = False)"
   ]
  },
  {
   "cell_type": "code",
   "execution_count": 5,
   "id": "fa82af9b-fdd1-4d8f-93e9-122fa3b68584",
   "metadata": {},
   "outputs": [
    {
     "name": "stdout",
     "output_type": "stream",
     "text": [
      "13-Jun-24 13:09:05 - No instance specified, using random instance https://nitter.privacydev.net\n",
      "13-Jun-24 13:09:09 - Current stats for elonmusk: 10 tweets, 0 threads...\n"
     ]
    }
   ],
   "source": [
    "tweets = scraper.get_tweets(\"elonmusk\", mode = \"user\", number = 10)"
   ]
  },
  {
   "cell_type": "code",
   "execution_count": 6,
   "id": "1ff35da5-7229-4861-9978-aa7c95d54fb7",
   "metadata": {},
   "outputs": [
    {
     "name": "stdout",
     "output_type": "stream",
     "text": [
      "{'threads': [],\n",
      " 'tweets': [{'date': 'Jun 11, 2024 · 7:10 PM UTC',\n",
      "             'external-link': '',\n",
      "             'gifs': [],\n",
      "             'is-pinned': True,\n",
      "             'is-retweet': False,\n",
      "             'link': 'https://twitter.com/elonmusk/status/1800606627319456065#m',\n",
      "             'pictures': [],\n",
      "             'quoted-post': {'date': 'Jun 11, 2024 · 7:07 PM UTC',\n",
      "                             'gifs': [],\n",
      "                             'link': 'https://twitter.com/cb_doge/status/1800605859669795263#m',\n",
      "                             'pictures': [],\n",
      "                             'text': 'To share 𝕏.com links with others, use '\n",
      "                                     \"the ''Share icon'' located at the bottom \"\n",
      "                                     'right of the post.',\n",
      "                             'user': {'avatar': 'https://pbs.twimg.com/profile_images/1498070100393754625/C2V-fbll_mini.jpg',\n",
      "                                      'name': 'DogeDesigner',\n",
      "                                      'profile_id': '1498070100393754625',\n",
      "                                      'username': '@cb_doge'},\n",
      "                             'videos': ['https://video.twimg.com/amplify_video/1800605796260327424/vid/avc1/1080x1080/W1BnZ_v8PatAGF7W.mp4?tag=16']},\n",
      "             'replying-to': [],\n",
      "             'stats': {'comments': 3254,\n",
      "                       'likes': 28875,\n",
      "                       'quotes': 220,\n",
      "                       'retweets': 4579},\n",
      "             'text': 'How to share links',\n",
      "             'user': {'avatar': 'https://pbs.twimg.com/profile_images/1780044485541699584/p78MCn3B_bigger.jpg',\n",
      "                      'name': 'Elon Musk',\n",
      "                      'profile_id': '1780044485541699584',\n",
      "                      'username': '@elonmusk'},\n",
      "             'videos': []},\n",
      "            {'date': 'Jun 12, 2024 · 3:57 PM UTC',\n",
      "             'external-link': '',\n",
      "             'gifs': [],\n",
      "             'is-pinned': False,\n",
      "             'is-retweet': True,\n",
      "             'link': 'https://twitter.com/Tesla_Megapack/status/1800920444276543858#m',\n",
      "             'pictures': [],\n",
      "             'quoted-post': {'date': 'Jun 12, 2024 · 5:34 AM UTC',\n",
      "                             'gifs': [],\n",
      "                             'link': 'https://twitter.com/Orsted/status/1800763465730281914#m',\n",
      "                             'pictures': [],\n",
      "                             'text': '📢We’re investing in a battery energy '\n",
      "                                     'storage system at the same site as our '\n",
      "                                     '#Hornsea3 Wind Farm. When it’s '\n",
      "                                     'sunny/windy the battery will store '\n",
      "                                     'excess energy to be discharged later to '\n",
      "                                     'help balance the grid. @Tesla_Megapack '\n",
      "                                     '#offshorewind '\n",
      "                                     '🌬️☀️👇https://orsted.com/en/media/news/2024/06/orsted-invests-in-battery-energy-storage-system-co-1390267511',\n",
      "                             'user': {'avatar': 'https://pbs.twimg.com/profile_images/1591046092807880705/jKKU5xt-_mini.jpg',\n",
      "                                      'name': 'Ørsted',\n",
      "                                      'profile_id': '1591046092807880705',\n",
      "                                      'username': '@Orsted'},\n",
      "                             'videos': ['https://video.twimg.com/ext_tw_video/1800763061625634816/pu/vid/avc1/720x720/5LQ6RI09zwD1zfJh.mp4?tag=12']},\n",
      "             'replying-to': [],\n",
      "             'stats': {'comments': 84,\n",
      "                       'likes': 935,\n",
      "                       'quotes': 8,\n",
      "                       'retweets': 142},\n",
      "             'text': '600 MWh of Megapacks will soon be co-located with wind '\n",
      "                     \"at @Orsted's Horsea 3 Wind Farm\",\n",
      "             'user': {'avatar': 'https://pbs.twimg.com/profile_images/1618601860687974402/LRksyZ7i_bigger.jpg',\n",
      "                      'name': 'Tesla Megapack',\n",
      "                      'profile_id': '1618601860687974402',\n",
      "                      'username': '@Tesla_Megapack'},\n",
      "             'videos': []},\n",
      "            {'date': 'Jun 12, 2024 · 4:13 PM UTC',\n",
      "             'external-link': '',\n",
      "             'gifs': [],\n",
      "             'is-pinned': False,\n",
      "             'is-retweet': False,\n",
      "             'link': 'https://twitter.com/elonmusk/status/1800924375010648136#m',\n",
      "             'pictures': [],\n",
      "             'quoted-post': {'date': 'Jun 12, 2024 · 2:00 AM UTC',\n",
      "                             'gifs': [],\n",
      "                             'link': 'https://twitter.com/SpaceX/status/1800709666382770304#m',\n",
      "                             'pictures': ['https://pbs.twimg.com/media/GP1njVqasAAqJLf.jpg'],\n",
      "                             'text': 'Engine ignition and liftoff of Starship '\n",
      "                                     'on Flight 4 as seen from the launch '\n",
      "                                     'tower',\n",
      "                             'user': {'avatar': 'https://pbs.twimg.com/profile_images/1697749409851985920/HbrI04tM_mini.jpg',\n",
      "                                      'name': 'SpaceX',\n",
      "                                      'profile_id': '1697749409851985920',\n",
      "                                      'username': '@SpaceX'},\n",
      "                             'videos': []},\n",
      "             'replying-to': [],\n",
      "             'stats': {'comments': 1569,\n",
      "                       'likes': 14163,\n",
      "                       'quotes': 123,\n",
      "                       'retweets': 1575},\n",
      "             'text': 'Starship is the most power flying object ever created.   '\n",
      "                     'Currently over twice the thrust of Saturn V and, with '\n",
      "                     'future upgrades, three times the thrust (10,000 tons of '\n",
      "                     'force).',\n",
      "             'user': {'avatar': 'https://pbs.twimg.com/profile_images/1780044485541699584/p78MCn3B_bigger.jpg',\n",
      "                      'name': 'Elon Musk',\n",
      "                      'profile_id': '1780044485541699584',\n",
      "                      'username': '@elonmusk'},\n",
      "             'videos': []},\n",
      "            {'date': 'Jun 12, 2024 · 3:33 PM UTC',\n",
      "             'external-link': '',\n",
      "             'gifs': [],\n",
      "             'is-pinned': False,\n",
      "             'is-retweet': False,\n",
      "             'link': 'https://twitter.com/elonmusk/status/1800914373512495414#m',\n",
      "             'pictures': [],\n",
      "             'quoted-post': {'date': 'Jun 12, 2024 · 2:38 PM UTC',\n",
      "                             'gifs': [],\n",
      "                             'link': 'https://twitter.com/SERobinsonJr/status/1800900481973383424#m',\n",
      "                             'pictures': ['https://pbs.twimg.com/media/GP4VcRXaoAEOPNi.jpg'],\n",
      "                             'text': 'The @nytimes posted a false story about '\n",
      "                                     'Starlink and an Amazon Tribe becoming '\n",
      "                                     'addicted to porn 🤦\\u200d♂️ They have '\n",
      "                                     'apologized and corrected the story, '\n",
      "                                     \"highlighting Starlink's benefits in \"\n",
      "                                     'healthcare, education, business, and '\n",
      "                                     'communication.   My thoughts, the '\n",
      "                                     'subject and accusations of the original '\n",
      "                                     'article alone requires 100% accuracy '\n",
      "                                     'before being published. It was done on '\n",
      "                                     'purpose. Apology not accepted.',\n",
      "                             'user': {'avatar': 'https://pbs.twimg.com/profile_images/1631261306618540033/FutwaY47_mini.jpg',\n",
      "                                      'name': 'S.E. Robinson, Jr.',\n",
      "                                      'profile_id': '1631261306618540033',\n",
      "                                      'username': '@SERobinsonJr'},\n",
      "                             'videos': []},\n",
      "             'replying-to': [],\n",
      "             'stats': {'comments': 1859,\n",
      "                       'likes': 15617,\n",
      "                       'quotes': 176,\n",
      "                       'retweets': 2213},\n",
      "             'text': 'It was disrespectful & unkind of The New York Times to '\n",
      "                     'say that about the tribe',\n",
      "             'user': {'avatar': 'https://pbs.twimg.com/profile_images/1780044485541699584/p78MCn3B_bigger.jpg',\n",
      "                      'name': 'Elon Musk',\n",
      "                      'profile_id': '1780044485541699584',\n",
      "                      'username': '@elonmusk'},\n",
      "             'videos': []},\n",
      "            {'date': 'Jun 12, 2024 · 3:13 PM UTC',\n",
      "             'external-link': '',\n",
      "             'gifs': [],\n",
      "             'is-pinned': False,\n",
      "             'is-retweet': False,\n",
      "             'link': 'https://twitter.com/elonmusk/status/1800909236597383455#m',\n",
      "             'pictures': [],\n",
      "             'quoted-post': {'date': 'Jun 12, 2024 · 1:31 PM UTC',\n",
      "                             'gifs': [],\n",
      "                             'link': 'https://twitter.com/MarioNawfal/status/1800883697069043730#m',\n",
      "                             'pictures': ['https://pbs.twimg.com/media/GP4F1DkWAAASTWe.jpg',\n",
      "                                          'https://pbs.twimg.com/media/GP4FyrAWEAACB15.jpg',\n",
      "                                          'https://pbs.twimg.com/media/GP4F2EJXAAAHuRJ.jpg',\n",
      "                                          'https://pbs.twimg.com/media/GP4FzY_XMAAK8Tm.jpg'],\n",
      "                             'text': '🚨BREAKING: ARK INVEST PUBLISHES NEW TSLA '\n",
      "                                     \"2029 PRICE TARGET - AND YOU WON'T \"\n",
      "                                     'BELIEVE IT!!  ELON:  \"They have been the '\n",
      "                                     'most accurate predictors of the value of '\n",
      "                                     'Tesla.\"  WOOD:   \"We believe that Tesla '\n",
      "                                     'will launch a robotaxi service within '\n",
      "                                     'the next two years, and that the '\n",
      "                                     'probability Tesla fails to launch a '\n",
      "                                     'robotaxi service within five years is di '\n",
      "                                     'minimis.  We assume that Optimus will '\n",
      "                                     'have minimal impact on our price '\n",
      "                                     'target.  ARK’s updated open-source Tesla '\n",
      "                                     'model yields an expected value of $2,600 '\n",
      "                                     'per share in 2029.  The bull and bear '\n",
      "                                     'cases are approximately $3,100 and '\n",
      "                                     '$2,000 per share.”  Source:  𝕏',\n",
      "                             'user': {'avatar': 'https://pbs.twimg.com/profile_images/1670905743619268609/pYItlWat_mini.jpg',\n",
      "                                      'name': 'Mario Nawfal',\n",
      "                                      'profile_id': '1670905743619268609',\n",
      "                                      'username': '@MarioNawfal'},\n",
      "                             'videos': []},\n",
      "             'replying-to': [],\n",
      "             'stats': {'comments': 1278,\n",
      "                       'likes': 10027,\n",
      "                       'quotes': 149,\n",
      "                       'retweets': 1363},\n",
      "             'text': 'Extremely challenging, but achievable',\n",
      "             'user': {'avatar': 'https://pbs.twimg.com/profile_images/1780044485541699584/p78MCn3B_bigger.jpg',\n",
      "                      'name': 'Elon Musk',\n",
      "                      'profile_id': '1780044485541699584',\n",
      "                      'username': '@elonmusk'},\n",
      "             'videos': []},\n",
      "            {'date': 'Jun 12, 2024 · 3:02 PM UTC',\n",
      "             'external-link': '',\n",
      "             'gifs': [],\n",
      "             'is-pinned': False,\n",
      "             'is-retweet': True,\n",
      "             'link': 'https://twitter.com/cb_doge/status/1800906546198839569#m',\n",
      "             'pictures': ['https://pbs.twimg.com/media/GP4a8_sXMAAqj_P.jpg'],\n",
      "             'quoted-post': {},\n",
      "             'replying-to': [],\n",
      "             'stats': {'comments': 368,\n",
      "                       'likes': 2506,\n",
      "                       'quotes': 31,\n",
      "                       'retweets': 342},\n",
      "             'text': 'Most users are on 𝕏 because it’s entertaining, but '\n",
      "                     'majorities also use it for politics, news.',\n",
      "             'user': {'avatar': 'https://pbs.twimg.com/profile_images/1498070100393754625/C2V-fbll_bigger.jpg',\n",
      "                      'name': 'DogeDesigner',\n",
      "                      'profile_id': '1498070100393754625',\n",
      "                      'username': '@cb_doge'},\n",
      "             'videos': []},\n",
      "            {'date': 'Jun 12, 2024 · 2:57 PM UTC',\n",
      "             'external-link': '',\n",
      "             'gifs': [],\n",
      "             'is-pinned': False,\n",
      "             'is-retweet': False,\n",
      "             'link': 'https://twitter.com/elonmusk/status/1800905349148664295#m',\n",
      "             'pictures': [],\n",
      "             'quoted-post': {'date': 'Jun 11, 2024 · 9:01 PM UTC',\n",
      "                             'gifs': [],\n",
      "                             'link': 'https://twitter.com/XEng/status/1800634371906380067#m',\n",
      "                             'pictures': [],\n",
      "                             'text': 'This week we’re making Likes private for '\n",
      "                                     'everyone to better protect your '\n",
      "                                     'privacy.  – You will still be able to '\n",
      "                                     'see posts you have liked (but others '\n",
      "                                     'cannot).  – Like count and other metrics '\n",
      "                                     'for your own posts will still show up '\n",
      "                                     'under notifications.  – You will no '\n",
      "                                     'longer see who liked someone else’s '\n",
      "                                     'post.  – A post’s author can see who '\n",
      "                                     'liked its posts.',\n",
      "                             'user': {'avatar': 'https://pbs.twimg.com/profile_images/1683502255574593536/anU7i4uA_mini.jpg',\n",
      "                                      'name': 'Engineering',\n",
      "                                      'profile_id': '1683502255574593536',\n",
      "                                      'username': '@XEng'},\n",
      "                             'videos': []},\n",
      "             'replying-to': [],\n",
      "             'stats': {'comments': 7210,\n",
      "                       'likes': 82825,\n",
      "                       'quotes': 2907,\n",
      "                       'retweets': 5898},\n",
      "             'text': 'Important change: your likes are now private',\n",
      "             'user': {'avatar': 'https://pbs.twimg.com/profile_images/1780044485541699584/p78MCn3B_bigger.jpg',\n",
      "                      'name': 'Elon Musk',\n",
      "                      'profile_id': '1780044485541699584',\n",
      "                      'username': '@elonmusk'},\n",
      "             'videos': []},\n",
      "            {'date': 'Jun 12, 2024 · 2:55 PM UTC',\n",
      "             'external-link': '',\n",
      "             'gifs': [],\n",
      "             'is-pinned': False,\n",
      "             'is-retweet': False,\n",
      "             'link': 'https://twitter.com/elonmusk/status/1800904669872656738#m',\n",
      "             'pictures': [],\n",
      "             'quoted-post': {'date': 'Jun 12, 2024 · 12:51 PM UTC',\n",
      "                             'gifs': [],\n",
      "                             'link': 'https://twitter.com/TashaARK/status/1800873506147881147#m',\n",
      "                             'pictures': ['https://pbs.twimg.com/media/GP37e_rWMAEzaec.jpg'],\n",
      "                             'text': 'Our updated Tesla model is now out! '\n",
      "                                     'https://www.ark-invest.com/articles/valuation-models/arks-tesla-price-target-2029 '\n",
      "                                     'Autonomous driving likely will be one of '\n",
      "                                     'the most life-changing AI unlocks in '\n",
      "                                     'history, and quite meaningful for Tesla '\n",
      "                                     'shareholders:',\n",
      "                             'user': {'avatar': 'https://pbs.twimg.com/profile_images/1619163541470060544/8IhIvkOn_mini.jpg',\n",
      "                                      'name': 'Tasha Keeney',\n",
      "                                      'profile_id': '1619163541470060544',\n",
      "                                      'username': '@TashaARK'},\n",
      "                             'videos': []},\n",
      "             'replying-to': [],\n",
      "             'stats': {'comments': 850,\n",
      "                       'likes': 6834,\n",
      "                       'quotes': 49,\n",
      "                       'retweets': 883},\n",
      "             'text': 'Interesting',\n",
      "             'user': {'avatar': 'https://pbs.twimg.com/profile_images/1780044485541699584/p78MCn3B_bigger.jpg',\n",
      "                      'name': 'Elon Musk',\n",
      "                      'profile_id': '1780044485541699584',\n",
      "                      'username': '@elonmusk'},\n",
      "             'videos': []},\n",
      "            {'date': 'Jun 12, 2024 · 5:17 AM UTC',\n",
      "             'external-link': '',\n",
      "             'gifs': [],\n",
      "             'is-pinned': False,\n",
      "             'is-retweet': False,\n",
      "             'link': 'https://twitter.com/elonmusk/status/1800759374941659572#m',\n",
      "             'pictures': [],\n",
      "             'quoted-post': {'date': 'Jun 11, 2024 · 11:28 PM UTC',\n",
      "                             'gifs': [],\n",
      "                             'link': 'https://twitter.com/TheRabbitHole84/status/1800671558027055340#m',\n",
      "                             'pictures': ['https://pbs.twimg.com/media/GP1FPUYakAART0J.jpg'],\n",
      "                             'text': 'The term “far right” has become so '\n",
      "                                     'loosely applied that it’s effectively '\n",
      "                                     'useless in sniffing out genuine cases of '\n",
      "                                     'extremism and more often used to slander '\n",
      "                                     'reasonable people.',\n",
      "                             'user': {'avatar': 'https://pbs.twimg.com/profile_images/1522017422550528001/6AceRKJQ_mini.png',\n",
      "                                      'name': 'The Rabbit Hole',\n",
      "                                      'profile_id': '1522017422550528001',\n",
      "                                      'username': '@TheRabbitHole84'},\n",
      "                             'videos': []},\n",
      "             'replying-to': [],\n",
      "             'stats': {'comments': 5760,\n",
      "                       'likes': 184088,\n",
      "                       'quotes': 1035,\n",
      "                       'retweets': 26583},\n",
      "             'text': 'Yeah',\n",
      "             'user': {'avatar': 'https://pbs.twimg.com/profile_images/1780044485541699584/p78MCn3B_bigger.jpg',\n",
      "                      'name': 'Elon Musk',\n",
      "                      'profile_id': '1780044485541699584',\n",
      "                      'username': '@elonmusk'},\n",
      "             'videos': []},\n",
      "            {'date': 'Jun 12, 2024 · 5:17 AM UTC',\n",
      "             'external-link': '',\n",
      "             'gifs': [],\n",
      "             'is-pinned': False,\n",
      "             'is-retweet': False,\n",
      "             'link': 'https://twitter.com/elonmusk/status/1800759252224729577#m',\n",
      "             'pictures': [],\n",
      "             'quoted-post': {},\n",
      "             'replying-to': [],\n",
      "             'stats': {'comments': 21452,\n",
      "                       'likes': 216422,\n",
      "                       'quotes': 4214,\n",
      "                       'retweets': 18035},\n",
      "             'text': 'A teleportation time machine would be so helpful',\n",
      "             'user': {'avatar': 'https://pbs.twimg.com/profile_images/1780044485541699584/p78MCn3B_bigger.jpg',\n",
      "                      'name': 'Elon Musk',\n",
      "                      'profile_id': '1780044485541699584',\n",
      "                      'username': '@elonmusk'},\n",
      "             'videos': []}]}\n"
     ]
    }
   ],
   "source": [
    "pprint(tweets)"
   ]
  },
  {
   "cell_type": "code",
   "execution_count": 7,
   "id": "766215b8-1b5f-4d35-8b67-ab2e358bc05b",
   "metadata": {},
   "outputs": [],
   "source": [
    "sentence = tweets['tweets'][0]['quoted-post']['text']"
   ]
  },
  {
   "cell_type": "code",
   "execution_count": 8,
   "id": "5a4384df-6011-4cd8-8366-06f2aa3d0a69",
   "metadata": {},
   "outputs": [
    {
     "name": "stdout",
     "output_type": "stream",
     "text": [
      "To share 𝕏.com links with others, use the ''Share icon'' located at the bottom right of the post.\n"
     ]
    }
   ],
   "source": [
    "print(sentence)"
   ]
  },
  {
   "cell_type": "code",
   "execution_count": 11,
   "id": "e1fedf1b-c96b-4145-abc5-af5dbf30bf6d",
   "metadata": {},
   "outputs": [
    {
     "name": "stderr",
     "output_type": "stream",
     "text": [
      "                                                                                \r"
     ]
    },
    {
     "name": "stdout",
     "output_type": "stream",
     "text": [
      "+--------------------------------------------------------------------------------------------------+------------------------------------------------------------------------------------------------------------------------------+\n",
      "|text                                                                                              |features                                                                                                                      |\n",
      "+--------------------------------------------------------------------------------------------------+------------------------------------------------------------------------------------------------------------------------------+\n",
      "|To share 𝕏.com links with others, use the ''Share icon'' located at the bottom right of the post.|(262144,[4309,45152,64859,80496,91064,98717,103377,110369,206556,227107,229166],[1.0,1.0,1.0,1.0,1.0,1.0,1.0,1.0,1.0,1.0,1.0])|\n",
      "+--------------------------------------------------------------------------------------------------+------------------------------------------------------------------------------------------------------------------------------+\n",
      "\n"
     ]
    }
   ],
   "source": [
    "from pyspark.ml import PipelineModel\n",
    "from pyspark.ml.feature import StopWordsRemover, HashingTF, Tokenizer\n",
    "from pyspark.sql import Row\n",
    "\n",
    "#manual test\n",
    "#sentence = \"happy adventure music\"\n",
    "\n",
    "#transforming sentecne into row and dataframe\n",
    "row = Row(id=0, text=sentence)\n",
    "\n",
    "df = spark.createDataFrame([row])\n",
    "\n",
    "loaded_model_lr = LogisticRegressionModel.load(\"lr_model_reference\")\n",
    "loaded_model_nb = NaiveBayesModel.load(\"nb_model_reference\")\n",
    "\n",
    "#tokenization of new data\n",
    "tokenizer = Tokenizer(inputCol=\"text\", outputCol=\"words\")\n",
    "tokenized_sentence = tokenizer.transform(df)\n",
    "\n",
    "#stop words removing\n",
    "swr = StopWordsRemover(inputCol=\"words\", outputCol=\"filtered_words\")\n",
    "filtered_sentence = swr.transform(tokenized_sentence)\n",
    "\n",
    "#words hashing\n",
    "hashTF = HashingTF(inputCol=\"filtered_words\", outputCol=\"features\")\n",
    "hashed_sentence = hashTF.transform(filtered_sentence)\n",
    "\n",
    "#tweet check\n",
    "hashed_sentence.select(\"text\", \"features\").show(truncate=False)\n"
   ]
  },
  {
   "cell_type": "code",
   "execution_count": 12,
   "id": "f94644ec-3da2-4de1-b6f4-11e2842c5f39",
   "metadata": {},
   "outputs": [],
   "source": [
    "#tweet evaluation with lr model\n",
    "predictions_lr = loaded_model_lr.transform(hashed_sentence)"
   ]
  },
  {
   "cell_type": "code",
   "execution_count": 13,
   "id": "3956ba39-6dce-4632-a397-0bc8bcbea7df",
   "metadata": {},
   "outputs": [],
   "source": [
    "#tweet evaluation with nb model\n",
    "predictions_nb = loaded_model_nb.transform(hashed_sentence)"
   ]
  },
  {
   "cell_type": "code",
   "execution_count": 14,
   "id": "0d43c47a-8cdf-4149-8aa4-25a54fec076a",
   "metadata": {},
   "outputs": [
    {
     "name": "stderr",
     "output_type": "stream",
     "text": [
      "24/06/13 13:11:30 WARN DAGScheduler: Broadcasting large task binary with size 2.1 MiB\n"
     ]
    },
    {
     "name": "stdout",
     "output_type": "stream",
     "text": [
      "sentiment is negative\n"
     ]
    }
   ],
   "source": [
    "#lr model evaluation output of downloaded tweet\n",
    "predicted_sentiment_lr = predictions_lr.select(\"prediction\").collect()[0][0]\n",
    "if predicted_sentiment_lr == 1.0:\n",
    "    print(\"sentiment is positive\")\n",
    "else:\n",
    "    print(\"sentiment is negative\")"
   ]
  },
  {
   "cell_type": "code",
   "execution_count": 15,
   "id": "14032023-9bca-41a1-8c0a-8b14b346dfa0",
   "metadata": {},
   "outputs": [
    {
     "name": "stderr",
     "output_type": "stream",
     "text": [
      "24/06/13 13:11:33 WARN DAGScheduler: Broadcasting large task binary with size 4.1 MiB\n"
     ]
    },
    {
     "name": "stdout",
     "output_type": "stream",
     "text": [
      "sentiment is negative\n"
     ]
    },
    {
     "name": "stderr",
     "output_type": "stream",
     "text": [
      "                                                                                \r"
     ]
    }
   ],
   "source": [
    "#nb model evaluation output of downloaded tweet\n",
    "predicted_sentiment_nb = predictions_nb.select(\"prediction\").collect()[0][0]\n",
    "if predicted_sentiment_nb == 1.0:\n",
    "    print(\"sentiment is positive\")\n",
    "else:\n",
    "    print(\"sentiment is negative\")"
   ]
  }
 ],
 "metadata": {
  "kernelspec": {
   "display_name": "Python 3 (ipykernel)",
   "language": "python",
   "name": "python3"
  },
  "language_info": {
   "codemirror_mode": {
    "name": "ipython",
    "version": 3
   },
   "file_extension": ".py",
   "mimetype": "text/x-python",
   "name": "python",
   "nbconvert_exporter": "python",
   "pygments_lexer": "ipython3",
   "version": "3.10.12"
  }
 },
 "nbformat": 4,
 "nbformat_minor": 5
}
